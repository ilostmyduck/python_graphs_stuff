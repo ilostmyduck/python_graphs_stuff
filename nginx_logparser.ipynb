{
 "cells": [
  {
   "cell_type": "code",
   "execution_count": 38,
   "metadata": {},
   "outputs": [
    {
     "name": "stdout",
     "output_type": "stream",
     "text": [
      ".\n"
     ]
    }
   ],
   "source": [
    "import re\n",
    "from datetime import datetime\n",
    "\n",
    "def write_in_file(log):\n",
    "    \n",
    "    dateTimeObj = datetime.now()\n",
    "    timestamp = dateTimeObj.strftime(\"%d-%m-%Y_%H-%M-%S\")\n",
    "\n",
    "    f= open(\"log_\" + timestamp + \".csv\",\"w+\")\n",
    "    f.write(log)\n",
    "\n",
    "def parse(log, parse_list):\n",
    "    \n",
    "    new_log = \"\"\n",
    "    \n",
    "    for i in range(len(log)):\n",
    "        for j in range(len(parse_list)):\n",
    "            \n",
    "            log[i]=log[i].replace(';', '')\n",
    "            \n",
    "            m = re.search(parse_list[j], log[i])\n",
    "            if m:\n",
    "                found = m.group(0)\n",
    "                if(j==2):\n",
    "                    found = found.replace(' ',';')\n",
    "                new_log = new_log + found + \";\"\n",
    "        new_log = new_log +'\\n'\n",
    "    return new_log\n",
    "\n",
    "\n",
    "def read_file(path):\n",
    "    \n",
    "    try:\n",
    "        f = open(path, 'r')\n",
    "        log = f.readlines()\n",
    "        \n",
    "    except FileNotFoundError:\n",
    "        print(\"File not found\")\n",
    "        \n",
    "    f.close()\n",
    "    \n",
    "    return log\n",
    "\n",
    "path = 'nginx_logs'\n",
    "parse_list = ['.*(?= -.*- \\[)', #host\n",
    "              '(?<=\\[).*(?=\\])', #local_time\n",
    "              '(\\\".*\\\")(?= \\d)', #request_body\n",
    "              '(?<=\\\" )\\d\\d\\d', #request_status\n",
    "              '(?<=\\\" \\d\\d\\d )\\d\\d\\d', #sent_bytes\n",
    "              '(?<=\\d\\d\\d )\\\".*\\\" ', #referer\n",
    "              '(?<=\\\" )\\\".*\\\"' #http_user_agent\n",
    "             ]\n",
    "log = read_file(path)\n",
    "log = parse(log, parse_list)\n",
    "write_in_file(log)\n",
    "\n",
    "\n"
   ]
  },
  {
   "cell_type": "code",
   "execution_count": null,
   "metadata": {},
   "outputs": [],
   "source": []
  },
  {
   "cell_type": "code",
   "execution_count": null,
   "metadata": {},
   "outputs": [],
   "source": []
  }
 ],
 "metadata": {
  "kernelspec": {
   "display_name": "Python 3",
   "language": "python",
   "name": "python3"
  },
  "language_info": {
   "codemirror_mode": {
    "name": "ipython",
    "version": 3
   },
   "file_extension": ".py",
   "mimetype": "text/x-python",
   "name": "python",
   "nbconvert_exporter": "python",
   "pygments_lexer": "ipython3",
   "version": "3.6.9"
  }
 },
 "nbformat": 4,
 "nbformat_minor": 2
}
